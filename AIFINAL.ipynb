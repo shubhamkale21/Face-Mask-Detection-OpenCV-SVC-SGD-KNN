{
 "cells": [
  {
   "cell_type": "markdown",
   "metadata": {},
   "source": [
    "# Face-Mask Detection System"
   ]
  },
  {
   "cell_type": "code",
   "execution_count": 2,
   "metadata": {},
   "outputs": [
    {
     "name": "stderr",
     "output_type": "stream",
     "text": [
      "/Users/shubhamsmac/opt/anaconda3/lib/python3.7/site-packages/statsmodels/tools/_testing.py:19: FutureWarning: pandas.util.testing is deprecated. Use the functions in the public API at pandas.testing instead.\n",
      "  import pandas.util.testing as tm\n"
     ]
    }
   ],
   "source": [
    "from datetime import datetime\n",
    "import os\n",
    "import pickle\n",
    "import random\n",
    "import time\n",
    "import warnings\n",
    "import seaborn as sns\n",
    "import pandas as pd\n",
    "from sklearn import svm\n",
    "from sklearn.preprocessing import StandardScaler\n",
    "import cv2\n",
    "import numpy as np\n",
    "from skimage import feature\n",
    "import glob\n",
    "import matplotlib.pyplot as plt"
   ]
  },
  {
   "cell_type": "markdown",
   "metadata": {},
   "source": [
    "### Data Import"
   ]
  },
  {
   "cell_type": "markdown",
   "metadata": {},
   "source": [
    "##### Collecting all the images with masks"
   ]
  },
  {
   "cell_type": "code",
   "execution_count": 3,
   "metadata": {},
   "outputs": [],
   "source": [
    "os.chdir('/Users/shubhamsmac/Desktop/AIProject/DATA/with_mask')\n",
    "files, ki , j= glob.glob('*.jpg'), glob.glob('*.png'),glob.glob('*.jpeg') #importing all the excel files in above directory path\n",
    "withmask=files+ki+j"
   ]
  },
  {
   "cell_type": "code",
   "execution_count": 4,
   "metadata": {},
   "outputs": [],
   "source": [
    "winSize = (64,64)\n",
    "blockSize = (16,16)\n",
    "blockStride = (8,8)\n",
    "cellSize = (8,8)\n",
    "nbins = 9\n",
    "derivAperture = 1\n",
    "winSigma = 4.\n",
    "histogramNormType = 0\n",
    "L2HysThreshold = 2.0000000000000001e-01\n",
    "gammaCorrection = 0\n",
    "nlevels = 64"
   ]
  },
  {
   "cell_type": "markdown",
   "metadata": {},
   "source": [
    "##### Data Pre-processing"
   ]
  },
  {
   "cell_type": "markdown",
   "metadata": {},
   "source": [
    "Using HOG discriptor to extract histogram gradients in a spatial array and stacking up with a flattent image vector"
   ]
  },
  {
   "cell_type": "code",
   "execution_count": 5,
   "metadata": {},
   "outputs": [],
   "source": [
    "masks_vec = []\n",
    "for i in withmask:\n",
    "    image = cv2.imread(i)\n",
    "    image = cv2.cvtColor(image, cv2.COLOR_BGR2HSV)\n",
    "    image = cv2.resize(image, (64,64), interpolation=cv2.INTER_AREA)\n",
    "    feature_vector = np.array([])\n",
    "    hog = cv2.HOGDescriptor(winSize,blockSize,blockStride,cellSize,nbins,derivAperture,winSigma,\n",
    "                        histogramNormType,L2HysThreshold,gammaCorrection,nlevels)\n",
    "    hist = hog.compute(image, (8,8), (8,8), ((10,20),))\n",
    "    feature_vector  = np.hstack((feature_vector, hist[:,0]))\n",
    "    spatial_image = cv2.resize(image,(64,64),interpolation= cv2.INTER_AREA)\n",
    "    spatial_vector = spatial_image.ravel()\n",
    "    feature_vector = np.hstack((feature_vector, spatial_vector))\n",
    "    masks_vec.append(feature_vector)"
   ]
  },
  {
   "cell_type": "markdown",
   "metadata": {},
   "source": [
    "#### Collecting all the images without masks"
   ]
  },
  {
   "cell_type": "code",
   "execution_count": 6,
   "metadata": {},
   "outputs": [],
   "source": [
    "os.chdir('/Users/shubhamsmac/Desktop/AIProject/DATA/without_mask')\n",
    "files, ki = glob.glob('*.jpg'), glob.glob('*.png') #importing all the excel files in above directory path\n",
    "nomask=files+ki"
   ]
  },
  {
   "cell_type": "code",
   "execution_count": 7,
   "metadata": {},
   "outputs": [],
   "source": [
    "Nomask_vec = []\n",
    "for i in nomask:\n",
    "    image = cv2.imread(i)\n",
    "    image = cv2.cvtColor(image, cv2.COLOR_BGR2HSV)\n",
    "    image = cv2.resize(image, (64,64), interpolation=cv2.INTER_AREA)\n",
    "    feature_vector = np.array([])\n",
    "    hog = cv2.HOGDescriptor(winSize,blockSize,blockStride,cellSize,nbins,derivAperture,winSigma,\n",
    "                        histogramNormType,L2HysThreshold,gammaCorrection,nlevels)\n",
    "    hist = hog.compute(image, (8,8), (8,8), ((10,20),))\n",
    "    feature_vector  = np.hstack((feature_vector, hist[:,0]))\n",
    "    spatial_image = cv2.resize(image,(64,64),interpolation= cv2.INTER_AREA)\n",
    "    spatial_vector = spatial_image.ravel()\n",
    "    feature_vector = np.hstack((feature_vector, spatial_vector))\n",
    "    Nomask_vec.append(feature_vector)"
   ]
  },
  {
   "cell_type": "code",
   "execution_count": null,
   "metadata": {},
   "outputs": [],
   "source": []
  },
  {
   "cell_type": "markdown",
   "metadata": {},
   "source": [
    "#### Scaling feature vectors using StandardScaler()"
   ]
  },
  {
   "cell_type": "code",
   "execution_count": 8,
   "metadata": {},
   "outputs": [
    {
     "name": "stdout",
     "output_type": "stream",
     "text": [
      "Scaling features.\n",
      "\n"
     ]
    }
   ],
   "source": [
    "print(\"Scaling features.\\n\")\n",
    "scaler = StandardScaler().fit(masks_vec + Nomask_vec)\n",
    "pos_features = scaler.transform(masks_vec)\n",
    "neg_features = scaler.transform(Nomask_vec)"
   ]
  },
  {
   "cell_type": "markdown",
   "metadata": {},
   "source": [
    "#### Shuffling data for randomness"
   ]
  },
  {
   "cell_type": "code",
   "execution_count": 9,
   "metadata": {},
   "outputs": [
    {
     "name": "stdout",
     "output_type": "stream",
     "text": [
      "Shuffling samples into training, cross-validation, and test sets.\n",
      "\n"
     ]
    }
   ],
   "source": [
    "print(\"Shuffling samples into training, cross-validation, and test sets.\\n\")\n",
    "random.shuffle(pos_features)\n",
    "random.shuffle(neg_features)"
   ]
  },
  {
   "cell_type": "markdown",
   "metadata": {},
   "source": [
    "#### Assigning withmask and without masks image feature vectore with 1s and 0s respectively."
   ]
  },
  {
   "cell_type": "code",
   "execution_count": 10,
   "metadata": {},
   "outputs": [],
   "source": [
    "data = np.vstack((pos_features, neg_features))\n",
    "labels = np.concatenate((np.ones(pos_features.shape[0],), np.zeros(neg_features.shape[0],)))"
   ]
  },
  {
   "cell_type": "markdown",
   "metadata": {},
   "source": [
    "#### Using Train and test split with 25% test size."
   ]
  },
  {
   "cell_type": "code",
   "execution_count": 11,
   "metadata": {},
   "outputs": [],
   "source": [
    "from sklearn.model_selection import train_test_split,KFold,cross_val_score\n",
    "X_train, X_test, Y_train, Y_test = train_test_split(data, labels, test_size=0.25, random_state=42,stratify = labels)"
   ]
  },
  {
   "cell_type": "code",
   "execution_count": 12,
   "metadata": {},
   "outputs": [],
   "source": [
    "from sklearn.model_selection import train_test_split,KFold,cross_val_score\n",
    "X_train2, X_test2, Y_train2, Y_test2 = train_test_split(data, labels, test_size=0.25, random_state=42,stratify = labels)"
   ]
  },
  {
   "cell_type": "code",
   "execution_count": 13,
   "metadata": {},
   "outputs": [],
   "source": [
    "from sklearn.model_selection import train_test_split,KFold,cross_val_score\n",
    "X_train3, X_test3, Y_train3, Y_test3 = train_test_split(data, labels, test_size=0.25, random_state=42,stratify = labels)"
   ]
  },
  {
   "cell_type": "code",
   "execution_count": 14,
   "metadata": {},
   "outputs": [],
   "source": [
    "from sklearn.svm import SVC\n",
    "from sklearn.linear_model import SGDClassifier\n",
    "from sklearn.neighbors import KNeighborsClassifier\n",
    "\n",
    "\n",
    "model1 = SVC()\n",
    "model2 = SGDClassifier()\n",
    "model3 = KNeighborsClassifier(n_neighbors=5)"
   ]
  },
  {
   "cell_type": "code",
   "execution_count": 15,
   "metadata": {},
   "outputs": [],
   "source": [
    "from sklearn.metrics import confusion_matrix,classification_report"
   ]
  },
  {
   "cell_type": "code",
   "execution_count": 16,
   "metadata": {},
   "outputs": [
    {
     "name": "stdout",
     "output_type": "stream",
     "text": [
      "Training Accuracy : 0.9979094076655052\n",
      "Testing Accuracy : 0.9780564263322884\n",
      "[[467  13]\n",
      " [  8 469]]\n",
      "              precision    recall  f1-score   support\n",
      "\n",
      "         0.0       0.98      0.97      0.98       480\n",
      "         1.0       0.97      0.98      0.98       477\n",
      "\n",
      "    accuracy                           0.98       957\n",
      "   macro avg       0.98      0.98      0.98       957\n",
      "weighted avg       0.98      0.98      0.98       957\n",
      "\n"
     ]
    },
    {
     "data": {
      "image/png": "[encoded data removed]",
      "text/plain": [
       "<Figure size 432x432 with 2 Axes>"
      ]
     },
     "metadata": {
      "needs_background": "light"
     },
     "output_type": "display_data"
    }
   ],
   "source": [
    "model1.fit(X_train, Y_train)\n",
    "ypred = model1.predict(X_test)\n",
    "\n",
    "# evaluating the model\n",
    "print(\"Training Accuracy :\", model1.score(X_train, Y_train))\n",
    "print(\"Testing Accuracy :\", model1.score(X_test, Y_test))\n",
    "#confusion matrix\n",
    "cm = confusion_matrix(Y_test, ypred)\n",
    "plt.rcParams['figure.figsize'] = (6, 6)\n",
    "sns.heatmap(cm ,annot = True)\n",
    "print(cm)\n",
    "# classification report\n",
    "cr = classification_report(Y_test, ypred)\n",
    "print(cr)"
   ]
  },
  {
   "cell_type": "code",
   "execution_count": 17,
   "metadata": {},
   "outputs": [
    {
     "name": "stdout",
     "output_type": "stream",
     "text": [
      "Training Accuracy : 0.9961672473867595\n",
      "Testing Accuracy : 0.9529780564263323\n",
      "[[451  29]\n",
      " [ 16 461]]\n",
      "              precision    recall  f1-score   support\n",
      "\n",
      "         0.0       0.97      0.94      0.95       480\n",
      "         1.0       0.94      0.97      0.95       477\n",
      "\n",
      "    accuracy                           0.95       957\n",
      "   macro avg       0.95      0.95      0.95       957\n",
      "weighted avg       0.95      0.95      0.95       957\n",
      "\n"
     ]
    },
    {
     "data": {
      "image/png": "[encoded data removed]",
      "text/plain": [
       "<Figure size 432x432 with 2 Axes>"
      ]
     },
     "metadata": {
      "needs_background": "light"
     },
     "output_type": "display_data"
    }
   ],
   "source": [
    "model2.fit(X_train2, Y_train2)\n",
    "ypred2 = model2.predict(X_test2)\n",
    "\n",
    "# evaluating the model\n",
    "print(\"Training Accuracy :\", model2.score(X_train2, Y_train2))\n",
    "print(\"Testing Accuracy :\", model2.score(X_test2, Y_test2))\n",
    "#confusion matrix\n",
    "cm = confusion_matrix(Y_test2, ypred2)\n",
    "plt.rcParams['figure.figsize'] = (6, 6)\n",
    "sns.heatmap(cm ,annot = True)\n",
    "print(cm)\n",
    "# classification report\n",
    "cr = classification_report(Y_test2, ypred2)\n",
    "print(cr)"
   ]
  },
  {
   "cell_type": "code",
   "execution_count": null,
   "metadata": {},
   "outputs": [],
   "source": [
    "model3.fit(X_train3, Y_train3)\n",
    "ypred3 = model3.predict(X_test3)\n",
    "\n",
    "# evaluating the model\n",
    "print(\"Training Accuracy :\", model3.score(X_train3, Y_train3))\n",
    "print(\"Testing Accuracy :\", model3.score(X_test3, Y_test3))\n",
    "#confusion matrix\n",
    "cm = confusion_matrix(Y_test3, ypred3)\n",
    "plt.rcParams['figure.figsize'] = (6, 6)\n",
    "sns.heatmap(cm ,annot = True)\n",
    "print(cm)\n",
    "# classification report\n",
    "cr = classification_report(Y_test3, ypred3)\n",
    "print(cr)"
   ]
  },
  {
   "cell_type": "markdown",
   "metadata": {},
   "source": [
    "#### Picking the best model in the directory for later use"
   ]
  },
  {
   "cell_type": "code",
   "execution_count": null,
   "metadata": {},
   "outputs": [],
   "source": [
    "os.chdir('/Users/shubhamsmac/Desktop/AIProject')\n",
    "import pickle\n",
    "filename = 'finalized_model5.sav'\n",
    "pickle.dump(model1, open(filename, 'wb'))"
   ]
  },
  {
   "cell_type": "code",
   "execution_count": null,
   "metadata": {},
   "outputs": [],
   "source": []
  },
  {
   "cell_type": "code",
   "execution_count": null,
   "metadata": {},
   "outputs": [],
   "source": [
    "from datetime import datetime\n",
    "import os\n",
    "import pickle\n",
    "import random\n",
    "import time\n",
    "import warnings\n",
    "import seaborn as sns\n",
    "import pandas as pd\n",
    "from sklearn import svm\n",
    "from sklearn.preprocessing import StandardScaler\n",
    "import cv2\n",
    "import numpy as np\n",
    "from skimage import feature\n",
    "import glob\n",
    "import matplotlib.pyplot as plt"
   ]
  },
  {
   "cell_type": "markdown",
   "metadata": {},
   "source": [
    "#### Unpickling the model from directory"
   ]
  },
  {
   "cell_type": "code",
   "execution_count": null,
   "metadata": {},
   "outputs": [],
   "source": [
    "filename = 'finalized_model5.sav'\n",
    "    \n",
    "with open(filename, 'rb') as file:  \n",
    "    model1 = pickle.load(file)\n",
    "\n",
    "model1"
   ]
  },
  {
   "cell_type": "markdown",
   "metadata": {},
   "source": [
    "#### Now we are setting up a directory for Test folder which will contain the unseen images captured from webcam"
   ]
  },
  {
   "cell_type": "code",
   "execution_count": null,
   "metadata": {},
   "outputs": [],
   "source": [
    "os.chdir('/Users/shubhamsmac/Desktop/AIProject/TEST1')"
   ]
  },
  {
   "cell_type": "code",
   "execution_count": null,
   "metadata": {},
   "outputs": [],
   "source": [
    "os.getcwd()"
   ]
  },
  {
   "cell_type": "markdown",
   "metadata": {},
   "source": [
    "We are using OpenCV's webcam capture feature to get few images with masks and without masks and storing them in the \n",
    "test folder"
   ]
  },
  {
   "cell_type": "code",
   "execution_count": null,
   "metadata": {},
   "outputs": [],
   "source": [
    "cam = cv2.VideoCapture(0)\n",
    "\n",
    "cv2.namedWindow(\"test\")\n",
    "\n",
    "img_counter = 0\n",
    "\n",
    "def rescale_frame(frame, percent=50):\n",
    "    width = int(frame.shape[1] * percent/ 100)\n",
    "    height = int(frame.shape[0] * percent/ 100)\n",
    "    dim = (width, height)\n",
    "    return cv2.resize(frame, dim, interpolation =cv2.INTER_AREA)\n",
    "\n",
    "while True:\n",
    "    ret, frame = cam.read()\n",
    "    frame75 = rescale_frame(frame, percent=50)\n",
    "    if not ret:\n",
    "        print(\"failed to grab frame\")\n",
    "        break\n",
    "    cv2.imshow(\"test\", frame)\n",
    "\n",
    "    k = cv2.waitKey(1)\n",
    "    if k%256 == 27:\n",
    "        # ESC pressed\n",
    "        print(\"Escape hit, closing...\")\n",
    "        break\n",
    "    elif k%256 == 32:\n",
    "        # SPACE pressed\n",
    "        img_name = \"opencv_frame_{}.png\".format(img_counter)\n",
    "        cv2.imwrite(img_name, frame75)\n",
    "        print(\"{} written!\".format(img_name))\n",
    "        img_counter += 1\n",
    "\n",
    "cam.release()\n",
    "cv2.destroyAllWindows()"
   ]
  },
  {
   "cell_type": "code",
   "execution_count": null,
   "metadata": {},
   "outputs": [],
   "source": [
    "os.chdir('/Users/shubhamsmac/Desktop/AIProject/TEST1')"
   ]
  },
  {
   "cell_type": "code",
   "execution_count": null,
   "metadata": {},
   "outputs": [],
   "source": [
    "TestImg1 = glob.glob('*.png')"
   ]
  },
  {
   "cell_type": "code",
   "execution_count": null,
   "metadata": {},
   "outputs": [],
   "source": []
  },
  {
   "cell_type": "code",
   "execution_count": null,
   "metadata": {},
   "outputs": [],
   "source": [
    "test_feat = []\n",
    "for i in TestImg1 :\n",
    "    image = cv2.imread(i)\n",
    "    image = cv2.cvtColor(image, cv2.COLOR_BGR2HSV)\n",
    "    image = cv2.resize(image, (64,64), interpolation=cv2.INTER_AREA)\n",
    "    feature_vector = np.array([])\n",
    "    rhog = feature.hog(image, orientations=9, pixels_per_cell=(8,8), \n",
    "                    cells_per_block=(4,4), visualize=True)#block_norm='L2'\n",
    "    ne = np.expand_dims(rhog, 1)\n",
    "    hog = cv2.HOGDescriptor(winSize,blockSize,blockStride,cellSize,nbins,derivAperture,winSigma,\n",
    "                        histogramNormType,L2HysThreshold,gammaCorrection,nlevels)\n",
    "    hist = hog.compute(image, (8,8), (8,8), ((10,20),))\n",
    "    feature_vector  = np.hstack((feature_vector, hist[:,0]))\n",
    "    spatial_image = cv2.resize(image,(64,64),interpolation= cv2.INTER_AREA)\n",
    "    spatial_vector = spatial_image.ravel()\n",
    "    feature_vector = np.hstack((feature_vector, spatial_vector))\n",
    "    test_feat.append(feature_vector)"
   ]
  },
  {
   "cell_type": "code",
   "execution_count": null,
   "metadata": {},
   "outputs": [],
   "source": [
    "test_feat = StandardScaler().fit_transform(test_feat)"
   ]
  },
  {
   "cell_type": "markdown",
   "metadata": {},
   "source": [
    "##### Predicting each images from test folder"
   ]
  },
  {
   "cell_type": "code",
   "execution_count": null,
   "metadata": {},
   "outputs": [],
   "source": [
    "prediction = model1.predict(test_feat)"
   ]
  },
  {
   "cell_type": "code",
   "execution_count": null,
   "metadata": {},
   "outputs": [],
   "source": [
    "pred=prediction.tolist()"
   ]
  },
  {
   "cell_type": "code",
   "execution_count": null,
   "metadata": {},
   "outputs": [],
   "source": [
    "##"
   ]
  },
  {
   "cell_type": "code",
   "execution_count": null,
   "metadata": {},
   "outputs": [],
   "source": [
    "k = 0\n",
    "while k < len(TestImg1):\n",
    "    image = cv2.imread(TestImg1[k])\n",
    "    window_name='Image'\n",
    "    if pred[k]==0:\n",
    "        label=\"No Mask\"\n",
    "    else:\n",
    "        label= \"Mask\"\n",
    "    if label ==\"Mask\":\n",
    "        color = (0, 255, 0) \n",
    "    else:\n",
    "        color = (0, 0, 255)\n",
    "    k=k+1\n",
    "    font = cv2.FONT_HERSHEY_SIMPLEX \n",
    "    # draw the prediction on the test image and display it\n",
    "    image = cv2.putText(image, label, (50, 50), font, 1, color, 2,cv2.LINE_AA)\n",
    "    cv2.imshow(window_name, image)\n",
    "    cv2.waitKey(0)\n",
    "    cv2.destroyAllWindows()"
   ]
  },
  {
   "cell_type": "code",
   "execution_count": null,
   "metadata": {},
   "outputs": [],
   "source": []
  },
  {
   "cell_type": "code",
   "execution_count": null,
   "metadata": {},
   "outputs": [],
   "source": []
  }
 ],
 "metadata": {
  "kernelspec": {
   "display_name": "Python 3",
   "language": "python",
   "name": "python3"
  },
  "language_info": {
   "codemirror_mode": {
    "name": "ipython",
    "version": 3
   },
   "file_extension": ".py",
   "mimetype": "text/x-python",
   "name": "python",
   "nbconvert_exporter": "python",
   "pygments_lexer": "ipython3",
   "version": "3.7.4"
  }
 },
 "nbformat": 4,
 "nbformat_minor": 2
}
